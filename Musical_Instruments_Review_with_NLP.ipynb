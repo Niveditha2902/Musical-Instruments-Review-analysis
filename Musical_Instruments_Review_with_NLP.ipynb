{
  "nbformat": 4,
  "nbformat_minor": 0,
  "metadata": {
    "colab": {
      "name": "Musical Instruments Review with NLP.ipynb",
      "provenance": []
    },
    "kernelspec": {
      "name": "python3",
      "display_name": "Python 3"
    },
    "language_info": {
      "name": "python"
    }
  },
  "cells": [
    {
      "cell_type": "code",
      "metadata": {
        "colab": {
          "base_uri": "https://localhost:8080/",
          "height": 272
        },
        "id": "Le-k201DnAmv",
        "outputId": "772c1b03-04b4-4057-c7ba-4e0cc818a86b"
      },
      "source": [
        "import pandas as pd\n",
        "import matplotlib.pyplot as plt\n",
        "import re\n",
        "import string\n",
        "import nltk\n",
        "nltk.download('punkt')\n",
        "nltk.download('wordnet')\n",
        "from nltk import word_tokenize\n",
        "from nltk.stem import WordNetLemmatizer\n",
        "from sklearn.feature_extraction.text import TfidfVectorizer\n",
        "from collections import Counter\n",
        "from pylab import *\n",
        "import warnings\n",
        "warnings.filterwarnings('ignore')\n",
        "\n",
        "#read the json data\n",
        "review_data=pd.read_json('Musical_Instruments_5.json.zip',lines=True)\n",
        "review_data[['reviewText','overall']].head()\n",
        "\n"
      ],
      "execution_count": null,
      "outputs": [
        {
          "output_type": "stream",
          "text": [
            "[nltk_data] Downloading package punkt to /root/nltk_data...\n",
            "[nltk_data]   Package punkt is already up-to-date!\n",
            "[nltk_data] Downloading package wordnet to /root/nltk_data...\n",
            "[nltk_data]   Unzipping corpora/wordnet.zip.\n"
          ],
          "name": "stdout"
        },
        {
          "output_type": "execute_result",
          "data": {
            "text/html": [
              "<div>\n",
              "<style scoped>\n",
              "    .dataframe tbody tr th:only-of-type {\n",
              "        vertical-align: middle;\n",
              "    }\n",
              "\n",
              "    .dataframe tbody tr th {\n",
              "        vertical-align: top;\n",
              "    }\n",
              "\n",
              "    .dataframe thead th {\n",
              "        text-align: right;\n",
              "    }\n",
              "</style>\n",
              "<table border=\"1\" class=\"dataframe\">\n",
              "  <thead>\n",
              "    <tr style=\"text-align: right;\">\n",
              "      <th></th>\n",
              "      <th>reviewText</th>\n",
              "      <th>overall</th>\n",
              "    </tr>\n",
              "  </thead>\n",
              "  <tbody>\n",
              "    <tr>\n",
              "      <th>0</th>\n",
              "      <td>Not much to write about here, but it does exac...</td>\n",
              "      <td>5</td>\n",
              "    </tr>\n",
              "    <tr>\n",
              "      <th>1</th>\n",
              "      <td>The product does exactly as it should and is q...</td>\n",
              "      <td>5</td>\n",
              "    </tr>\n",
              "    <tr>\n",
              "      <th>2</th>\n",
              "      <td>The primary job of this device is to block the...</td>\n",
              "      <td>5</td>\n",
              "    </tr>\n",
              "    <tr>\n",
              "      <th>3</th>\n",
              "      <td>Nice windscreen protects my MXL mic and preven...</td>\n",
              "      <td>5</td>\n",
              "    </tr>\n",
              "    <tr>\n",
              "      <th>4</th>\n",
              "      <td>This pop filter is great. It looks and perform...</td>\n",
              "      <td>5</td>\n",
              "    </tr>\n",
              "  </tbody>\n",
              "</table>\n",
              "</div>"
            ],
            "text/plain": [
              "                                          reviewText  overall\n",
              "0  Not much to write about here, but it does exac...        5\n",
              "1  The product does exactly as it should and is q...        5\n",
              "2  The primary job of this device is to block the...        5\n",
              "3  Nice windscreen protects my MXL mic and preven...        5\n",
              "4  This pop filter is great. It looks and perform...        5"
            ]
          },
          "metadata": {
            "tags": []
          },
          "execution_count": 5
        }
      ]
    },
    {
      "cell_type": "code",
      "metadata": {
        "colab": {
          "base_uri": "https://localhost:8080/"
        },
        "id": "R_mGaXW5nt3U",
        "outputId": "aefa473c-6a65-46c1-b3bb-829414596588"
      },
      "source": [
        "lemmatizer=WordNetLemmatizer()\n",
        "review_data['cleaned_review_text']=review_data['reviewText'].apply(lambda x :''.join([lemmatizer.lemmatize(word.lower()) for word in word_tokenize(re.sub(r'([^\\s\\w]|_)+','',str(x)))]))\n",
        "\n",
        "#print the new cleaned data\n",
        "review_data[['cleaned_review_text','reviewText','overall']].head()\n",
        "\n",
        "\n",
        "\n",
        "#create the TF-IDF frequency\n",
        "tfidf_model=TfidfVectorizer(max_features=500)\n",
        "tfidf_df=pd.DataFrame(tfidf_model.fit_transform(review_data['cleaned_review_text']).todense())\n",
        "tfidf_df.columns=sorted(tfidf_model.vocabulary_)\n",
        "tfidf_df.head()\n",
        "\n",
        "#set the target data\n",
        "review_data['target']=review_data['overall'].apply(lambda x:0 if x<=4 else 1)\n",
        "review_data['target'].value_counts()\n",
        "\n"
      ],
      "execution_count": null,
      "outputs": [
        {
          "output_type": "execute_result",
          "data": {
            "text/plain": [
              "1    6938\n",
              "0    3323\n",
              "Name: target, dtype: int64"
            ]
          },
          "metadata": {
            "tags": []
          },
          "execution_count": 6
        }
      ]
    },
    {
      "cell_type": "code",
      "metadata": {
        "colab": {
          "base_uri": "https://localhost:8080/",
          "height": 142
        },
        "id": "aTtWgyAbntyF",
        "outputId": "2a42a2be-be64-463d-fbb2-fda21d254422"
      },
      "source": [
        "#implement Logistic Regression\n",
        "from sklearn.linear_model import LogisticRegression\n",
        "logreg=LogisticRegression()\n",
        "logreg.fit(tfidf_df,review_data['target'])\n",
        "predicted_labels=logreg.predict(tfidf_df)\n",
        "logreg.predict_proba(tfidf_df)[:,1]\n",
        "\n",
        "#compare the result of classification using crosstab\n",
        "review_data['predicted_labels']=predicted_labels\n",
        "pd.crosstab(review_data['target'],review_data['predicted_labels'])\n",
        "\n"
      ],
      "execution_count": null,
      "outputs": [
        {
          "output_type": "execute_result",
          "data": {
            "text/html": [
              "<div>\n",
              "<style scoped>\n",
              "    .dataframe tbody tr th:only-of-type {\n",
              "        vertical-align: middle;\n",
              "    }\n",
              "\n",
              "    .dataframe tbody tr th {\n",
              "        vertical-align: top;\n",
              "    }\n",
              "\n",
              "    .dataframe thead th {\n",
              "        text-align: right;\n",
              "    }\n",
              "</style>\n",
              "<table border=\"1\" class=\"dataframe\">\n",
              "  <thead>\n",
              "    <tr style=\"text-align: right;\">\n",
              "      <th>predicted_labels</th>\n",
              "      <th>1</th>\n",
              "    </tr>\n",
              "    <tr>\n",
              "      <th>target</th>\n",
              "      <th></th>\n",
              "    </tr>\n",
              "  </thead>\n",
              "  <tbody>\n",
              "    <tr>\n",
              "      <th>0</th>\n",
              "      <td>3323</td>\n",
              "    </tr>\n",
              "    <tr>\n",
              "      <th>1</th>\n",
              "      <td>6938</td>\n",
              "    </tr>\n",
              "  </tbody>\n",
              "</table>\n",
              "</div>"
            ],
            "text/plain": [
              "predicted_labels     1\n",
              "target                \n",
              "0                 3323\n",
              "1                 6938"
            ]
          },
          "metadata": {
            "tags": []
          },
          "execution_count": 7
        }
      ]
    },
    {
      "cell_type": "code",
      "metadata": {
        "colab": {
          "base_uri": "https://localhost:8080/",
          "height": 142
        },
        "id": "URlMCcIantsz",
        "outputId": "37192732-7e7a-4956-cbb5-b99998162b4d"
      },
      "source": [
        "#implement NaiveBayes\n",
        "from sklearn.naive_bayes import GaussianNB\n",
        "nb=GaussianNB()\n",
        "nb.fit(tfidf_df,review_data['target'])\n",
        "predicted_labels=nb.predict(tfidf_df)\n",
        "nb.predict_proba(tfidf_df)[:,1]\n",
        "\n",
        "#compare the result of classification using crosstab\n",
        "review_data['predicted_labels_nb']=predicted_labels\n",
        "pd.crosstab(review_data['target'],review_data['predicted_labels_nb'])\n",
        "\n"
      ],
      "execution_count": null,
      "outputs": [
        {
          "output_type": "execute_result",
          "data": {
            "text/html": [
              "<div>\n",
              "<style scoped>\n",
              "    .dataframe tbody tr th:only-of-type {\n",
              "        vertical-align: middle;\n",
              "    }\n",
              "\n",
              "    .dataframe tbody tr th {\n",
              "        vertical-align: top;\n",
              "    }\n",
              "\n",
              "    .dataframe thead th {\n",
              "        text-align: right;\n",
              "    }\n",
              "</style>\n",
              "<table border=\"1\" class=\"dataframe\">\n",
              "  <thead>\n",
              "    <tr style=\"text-align: right;\">\n",
              "      <th>predicted_labels_nb</th>\n",
              "      <th>0</th>\n",
              "      <th>1</th>\n",
              "    </tr>\n",
              "    <tr>\n",
              "      <th>target</th>\n",
              "      <th></th>\n",
              "      <th></th>\n",
              "    </tr>\n",
              "  </thead>\n",
              "  <tbody>\n",
              "    <tr>\n",
              "      <th>0</th>\n",
              "      <td>3323</td>\n",
              "      <td>0</td>\n",
              "    </tr>\n",
              "    <tr>\n",
              "      <th>1</th>\n",
              "      <td>6585</td>\n",
              "      <td>353</td>\n",
              "    </tr>\n",
              "  </tbody>\n",
              "</table>\n",
              "</div>"
            ],
            "text/plain": [
              "predicted_labels_nb     0    1\n",
              "target                        \n",
              "0                    3323    0\n",
              "1                    6585  353"
            ]
          },
          "metadata": {
            "tags": []
          },
          "execution_count": 8
        }
      ]
    },
    {
      "cell_type": "code",
      "metadata": {
        "colab": {
          "base_uri": "https://localhost:8080/",
          "height": 142
        },
        "id": "70fZ8y9zntns",
        "outputId": "390e013f-0078-4d3f-a18e-2bfc8ab8cc9c"
      },
      "source": [
        "#implement KNN and compare result\n",
        "from sklearn.neighbors import KNeighborsClassifier\n",
        "knn=KNeighborsClassifier(n_neighbors=3)\n",
        "knn.fit(tfidf_df,review_data['target'])\n",
        "review_data['predicted_labels_knn']=knn.predict(tfidf_df)\n",
        "pd.crosstab(review_data['target'],review_data['predicted_labels_knn'])\n"
      ],
      "execution_count": null,
      "outputs": [
        {
          "output_type": "execute_result",
          "data": {
            "text/html": [
              "<div>\n",
              "<style scoped>\n",
              "    .dataframe tbody tr th:only-of-type {\n",
              "        vertical-align: middle;\n",
              "    }\n",
              "\n",
              "    .dataframe tbody tr th {\n",
              "        vertical-align: top;\n",
              "    }\n",
              "\n",
              "    .dataframe thead th {\n",
              "        text-align: right;\n",
              "    }\n",
              "</style>\n",
              "<table border=\"1\" class=\"dataframe\">\n",
              "  <thead>\n",
              "    <tr style=\"text-align: right;\">\n",
              "      <th>predicted_labels_knn</th>\n",
              "      <th>0</th>\n",
              "      <th>1</th>\n",
              "    </tr>\n",
              "    <tr>\n",
              "      <th>target</th>\n",
              "      <th></th>\n",
              "      <th></th>\n",
              "    </tr>\n",
              "  </thead>\n",
              "  <tbody>\n",
              "    <tr>\n",
              "      <th>0</th>\n",
              "      <td>84</td>\n",
              "      <td>3239</td>\n",
              "    </tr>\n",
              "    <tr>\n",
              "      <th>1</th>\n",
              "      <td>40</td>\n",
              "      <td>6898</td>\n",
              "    </tr>\n",
              "  </tbody>\n",
              "</table>\n",
              "</div>"
            ],
            "text/plain": [
              "predicted_labels_knn   0     1\n",
              "target                        \n",
              "0                     84  3239\n",
              "1                     40  6898"
            ]
          },
          "metadata": {
            "tags": []
          },
          "execution_count": 9
        }
      ]
    },
    {
      "cell_type": "code",
      "metadata": {
        "colab": {
          "base_uri": "https://localhost:8080/"
        },
        "id": "yK5knlnrntg7",
        "outputId": "4031b668-7e45-4b47-b76f-cab7e03488c6"
      },
      "source": [
        "from sklearn.linear_model import LinearRegression\n",
        "linreg=LinearRegression()\n",
        "linreg.fit(tfidf_df,review_data['overall'])\n",
        "linreg.coef_\n"
      ],
      "execution_count": null,
      "outputs": [
        {
          "output_type": "execute_result",
          "data": {
            "text/plain": [
              "array([ 0.51081497,  0.51081497,  0.51081497,  0.51081497,  0.51081497,\n",
              "        0.51081497,  0.51081497,  0.51081497,  0.51081497, -1.48918503,\n",
              "        0.51081497,  0.51081497,  0.51081497, -1.48918503,  0.51081497,\n",
              "        0.51081497,  0.51081497,  0.51081497,  0.51081497,  0.51081497,\n",
              "       -2.48918503,  0.51081497,  0.51081497, -3.48918503, -3.48918503,\n",
              "       -3.48918503, -0.48918503, -1.48918503, -1.48918503,  0.51081497,\n",
              "        0.51081497,  0.51081497,  0.51081497,  0.51081497, -0.48918503,\n",
              "       -3.48918503,  0.51081497,  0.51081497,  0.51081497,  0.51081497,\n",
              "        0.51081497,  0.51081497,  0.51081497,  0.51081497,  0.51081497,\n",
              "        0.51081497, -0.48918503,  0.51081497,  0.51081497, -1.48918503,\n",
              "        0.51081497,  0.51081497,  0.51081497,  0.51081497, -3.48918503,\n",
              "        0.51081497,  0.51081497,  0.51081497,  0.51081497,  0.51081497,\n",
              "        0.51081497,  0.51081497,  0.51081497,  0.51081497,  0.51081497,\n",
              "        0.51081497,  0.51081497,  0.51081497,  0.51081497, -0.48918503,\n",
              "       -0.48918503, -0.48918503,  0.51081497,  0.51081497, -3.48918503,\n",
              "       -0.48918503,  0.51081497,  0.51081497,  0.51081497, -1.48918503,\n",
              "        0.51081497,  0.51081497,  0.51081497, -0.48918503, -2.48918503,\n",
              "        0.51081497, -0.48918503,  0.51081497,  0.51081497,  0.51081497,\n",
              "        0.51081497, -0.48918503,  0.51081497,  0.51081497,  0.51081497,\n",
              "        0.51081497,  0.51081497,  0.51081497,  0.51081497, -0.48918503,\n",
              "        0.51081497,  0.51081497, -0.48918503, -1.48918503,  0.51081497,\n",
              "        0.51081497, -3.48918503, -3.48918503,  0.51081497,  0.51081497,\n",
              "       -0.48918503,  0.51081497,  0.51081497, -0.48918503, -1.48918503,\n",
              "       -0.48918503, -0.48918503, -0.48918503, -1.48918503,  0.51081497,\n",
              "        0.51081497,  0.51081497,  0.51081497, -0.48918503,  0.51081497,\n",
              "       -3.48918503,  0.51081497,  0.51081497,  0.51081497,  0.51081497,\n",
              "        0.51081497,  0.51081497,  0.51081497,  0.51081497,  0.51081497,\n",
              "        0.51081497,  0.51081497,  0.51081497, -0.48918503,  0.51081497,\n",
              "        0.51081497, -0.48918503,  0.51081497,  0.51081497,  0.51081497,\n",
              "        0.51081497,  0.51081497,  0.51081497,  0.51081497,  0.51081497,\n",
              "        0.51081497,  0.51081497,  0.51081497, -2.48918503, -0.48918503,\n",
              "        0.51081497, -0.48918503,  0.51081497, -1.48918503,  0.51081497,\n",
              "        0.51081497,  0.51081497,  0.51081497,  0.51081497,  0.51081497,\n",
              "        0.51081497,  0.51081497,  0.51081497, -1.48918503,  0.51081497,\n",
              "        0.51081497,  0.51081497,  0.51081497,  0.51081497,  0.51081497,\n",
              "       -0.48918503,  0.51081497,  0.51081497,  0.51081497,  0.51081497,\n",
              "        0.51081497, -1.48918503,  0.51081497, -0.48918503, -1.48918503,\n",
              "       -0.48918503,  0.51081497,  0.51081497,  0.51081497,  0.51081497,\n",
              "        0.51081497,  0.51081497,  0.51081497,  0.51081497, -0.48918503,\n",
              "       -0.48918503,  0.51081497,  0.51081497,  0.51081497, -3.48918503,\n",
              "        0.51081497, -1.48918503,  0.51081497,  0.51081497, -3.48918503,\n",
              "        0.51081497,  0.51081497,  0.51081497,  0.51081497,  0.51081497,\n",
              "        0.51081497,  0.51081497,  0.51081497,  0.51081497,  0.51081497,\n",
              "        0.51081497,  0.51081497, -3.48918503, -0.48918503, -0.48918503,\n",
              "       -0.48918503, -0.48918503, -0.48918503,  0.51081497,  0.51081497,\n",
              "        0.51081497,  0.51081497,  0.51081497,  0.51081497, -1.48918503,\n",
              "        0.51081497,  0.51081497, -3.48918503,  0.51081497,  0.51081497,\n",
              "       -0.48918503, -1.48918503,  0.51081497, -0.48918503, -1.48918503,\n",
              "        0.51081497,  0.51081497,  0.51081497, -0.48918503,  0.51081497,\n",
              "       -0.48918503,  0.51081497,  0.51081497, -0.48918503,  0.51081497,\n",
              "        0.51081497,  0.51081497,  0.51081497,  0.51081497,  0.51081497,\n",
              "       -2.48918503, -1.48918503,  0.51081497,  0.51081497,  0.51081497,\n",
              "        0.51081497,  0.51081497, -1.48918503,  0.51081497,  0.51081497,\n",
              "        0.51081497,  0.51081497, -0.48918503,  0.51081497, -1.48918503,\n",
              "        0.51081497,  0.51081497,  0.51081497,  0.51081497,  0.51081497,\n",
              "       -0.48918503,  0.51081497,  0.51081497,  0.51081497,  0.51081497,\n",
              "        0.51081497,  0.51081497,  0.51081497,  0.51081497, -0.48918503,\n",
              "        0.51081497, -1.48918503,  0.51081497,  0.51081497,  0.51081497,\n",
              "        0.51081497,  0.51081497,  0.51081497,  0.51081497,  0.51081497,\n",
              "        0.51081497,  0.51081497,  0.51081497,  0.51081497,  0.51081497,\n",
              "       -0.48918503,  0.51081497,  0.51081497, -0.48918503,  0.51081497,\n",
              "        0.51081497,  0.51081497,  0.51081497,  0.51081497, -0.48918503,\n",
              "       -0.48918503,  0.51081497,  0.51081497,  0.51081497,  0.51081497,\n",
              "       -0.48918503, -0.48918503,  0.51081497,  0.51081497,  0.51081497,\n",
              "        0.51081497,  0.51081497,  0.51081497,  0.51081497,  0.51081497,\n",
              "        0.51081497,  0.51081497, -3.48918503, -1.48918503,  0.51081497,\n",
              "       -0.48918503,  0.51081497,  0.51081497, -0.48918503, -2.48918503,\n",
              "       -0.48918503,  0.51081497, -0.48918503, -0.48918503,  0.51081497,\n",
              "        0.51081497,  0.51081497, -0.48918503, -0.48918503,  0.51081497,\n",
              "        0.51081497, -0.48918503,  0.51081497,  0.51081497,  0.51081497,\n",
              "       -0.48918503,  0.51081497,  0.51081497,  0.51081497,  0.51081497,\n",
              "        0.51081497,  0.51081497,  0.51081497, -0.48918503, -1.48918503,\n",
              "       -1.48918503, -1.48918503,  0.51081497,  0.51081497,  0.51081497,\n",
              "        0.51081497,  0.51081497, -2.48918503,  0.51081497,  0.51081497,\n",
              "        0.51081497, -1.48918503,  0.51081497, -2.48918503, -0.48918503,\n",
              "       -1.48918503, -3.48918503, -2.48918503, -1.48918503,  0.51081497,\n",
              "        0.51081497, -0.48918503, -0.48918503, -0.48918503, -0.48918503,\n",
              "        0.51081497, -1.48918503,  0.51081497,  0.51081497,  0.51081497,\n",
              "       -0.48918503, -0.48918503,  0.51081497,  0.51081497, -0.48918503,\n",
              "       -2.48918503, -3.48918503, -0.48918503,  0.51081497, -0.48918503,\n",
              "       -0.48918503,  0.51081497, -2.48918503, -0.48918503, -0.48918503,\n",
              "       -0.48918503,  0.51081497, -3.48918503,  0.51081497, -0.48918503,\n",
              "        0.51081497, -0.48918503,  0.51081497,  0.51081497,  0.51081497,\n",
              "        0.51081497,  0.51081497, -0.48918503, -0.48918503, -0.48918503,\n",
              "        0.51081497,  0.51081497,  0.51081497,  0.51081497,  0.51081497,\n",
              "       -0.48918503,  0.51081497,  0.51081497,  0.51081497, -0.48918503,\n",
              "       -0.48918503,  0.51081497, -2.48918503, -3.48918503,  0.51081497,\n",
              "       -0.48918503, -0.48918503,  0.51081497,  0.51081497,  0.51081497,\n",
              "        0.51081497,  0.51081497,  0.51081497,  0.51081497, -1.48918503,\n",
              "        0.51081497, -2.48918503,  0.51081497, -0.48918503, -0.48918503,\n",
              "        0.51081497,  0.51081497,  0.51081497,  0.51081497, -0.48918503,\n",
              "       -0.48918503,  0.51081497,  0.51081497,  0.51081497,  0.51081497,\n",
              "        0.51081497,  0.51081497,  0.51081497,  0.51081497,  0.51081497,\n",
              "        0.51081497,  0.51081497,  0.51081497,  0.51081497,  0.51081497,\n",
              "       -2.48918503,  0.51081497,  0.51081497,  0.51081497,  0.51081497,\n",
              "       -0.48918503,  0.51081497,  0.51081497,  0.51081497,  0.51081497,\n",
              "        0.51081497,  0.51081497,  0.51081497, -0.48918503, -0.48918503,\n",
              "        0.51081497, -0.48918503,  0.51081497,  0.51081497,  0.51081497,\n",
              "       -0.48918503,  0.51081497,  0.51081497, -0.48918503,  0.51081497,\n",
              "       -0.48918503,  0.51081497, -0.48918503,  0.51081497,  0.51081497])"
            ]
          },
          "metadata": {
            "tags": []
          },
          "execution_count": 10
        }
      ]
    },
    {
      "cell_type": "code",
      "metadata": {
        "colab": {
          "base_uri": "https://localhost:8080/",
          "height": 359
        },
        "id": "UfTgGqbEntbO",
        "outputId": "ef06fa57-1063-46a4-ab20-27e1a3384f3f"
      },
      "source": [
        "#find interception\n",
        "linreg.intercept_\n",
        "\n",
        "#prediction\n",
        "linreg.predict(tfidf_df)\n",
        "\n",
        "#predict overall score\n",
        "review_data['predicted_score_from_linear_regression']=linreg.predict(tfidf_df)\n",
        "review_data[['overall','predicted_score_from_linear_regression']].head(10)\n",
        "\n",
        "\n"
      ],
      "execution_count": null,
      "outputs": [
        {
          "output_type": "execute_result",
          "data": {
            "text/html": [
              "<div>\n",
              "<style scoped>\n",
              "    .dataframe tbody tr th:only-of-type {\n",
              "        vertical-align: middle;\n",
              "    }\n",
              "\n",
              "    .dataframe tbody tr th {\n",
              "        vertical-align: top;\n",
              "    }\n",
              "\n",
              "    .dataframe thead th {\n",
              "        text-align: right;\n",
              "    }\n",
              "</style>\n",
              "<table border=\"1\" class=\"dataframe\">\n",
              "  <thead>\n",
              "    <tr style=\"text-align: right;\">\n",
              "      <th></th>\n",
              "      <th>overall</th>\n",
              "      <th>predicted_score_from_linear_regression</th>\n",
              "    </tr>\n",
              "  </thead>\n",
              "  <tbody>\n",
              "    <tr>\n",
              "      <th>0</th>\n",
              "      <td>5</td>\n",
              "      <td>4.489185</td>\n",
              "    </tr>\n",
              "    <tr>\n",
              "      <th>1</th>\n",
              "      <td>5</td>\n",
              "      <td>4.489185</td>\n",
              "    </tr>\n",
              "    <tr>\n",
              "      <th>2</th>\n",
              "      <td>5</td>\n",
              "      <td>4.489185</td>\n",
              "    </tr>\n",
              "    <tr>\n",
              "      <th>3</th>\n",
              "      <td>5</td>\n",
              "      <td>4.489185</td>\n",
              "    </tr>\n",
              "    <tr>\n",
              "      <th>4</th>\n",
              "      <td>5</td>\n",
              "      <td>4.489185</td>\n",
              "    </tr>\n",
              "    <tr>\n",
              "      <th>5</th>\n",
              "      <td>5</td>\n",
              "      <td>5.000000</td>\n",
              "    </tr>\n",
              "    <tr>\n",
              "      <th>6</th>\n",
              "      <td>5</td>\n",
              "      <td>4.489185</td>\n",
              "    </tr>\n",
              "    <tr>\n",
              "      <th>7</th>\n",
              "      <td>3</td>\n",
              "      <td>4.489185</td>\n",
              "    </tr>\n",
              "    <tr>\n",
              "      <th>8</th>\n",
              "      <td>5</td>\n",
              "      <td>5.000000</td>\n",
              "    </tr>\n",
              "    <tr>\n",
              "      <th>9</th>\n",
              "      <td>5</td>\n",
              "      <td>4.489185</td>\n",
              "    </tr>\n",
              "  </tbody>\n",
              "</table>\n",
              "</div>"
            ],
            "text/plain": [
              "   overall  predicted_score_from_linear_regression\n",
              "0        5                                4.489185\n",
              "1        5                                4.489185\n",
              "2        5                                4.489185\n",
              "3        5                                4.489185\n",
              "4        5                                4.489185\n",
              "5        5                                5.000000\n",
              "6        5                                4.489185\n",
              "7        3                                4.489185\n",
              "8        5                                5.000000\n",
              "9        5                                4.489185"
            ]
          },
          "metadata": {
            "tags": []
          },
          "execution_count": 11
        }
      ]
    },
    {
      "cell_type": "code",
      "metadata": {
        "colab": {
          "base_uri": "https://localhost:8080/",
          "height": 142
        },
        "id": "-Jvp3n0SntXp",
        "outputId": "056216d7-51ee-4a8f-bf3f-e05faa466dc5"
      },
      "source": [
        "#implement decision tree classifier\n",
        "from sklearn import tree\n",
        "dtc=tree.DecisionTreeClassifier()\n",
        "dtc=dtc.fit(tfidf_df,review_data['target'])\n",
        "review_data['predicted_labels_dtc']=dtc.predict(tfidf_df)\n",
        "\n",
        "pd.crosstab(review_data['target'],review_data['predicted_labels_dtc'])\n",
        "\n"
      ],
      "execution_count": null,
      "outputs": [
        {
          "output_type": "execute_result",
          "data": {
            "text/html": [
              "<div>\n",
              "<style scoped>\n",
              "    .dataframe tbody tr th:only-of-type {\n",
              "        vertical-align: middle;\n",
              "    }\n",
              "\n",
              "    .dataframe tbody tr th {\n",
              "        vertical-align: top;\n",
              "    }\n",
              "\n",
              "    .dataframe thead th {\n",
              "        text-align: right;\n",
              "    }\n",
              "</style>\n",
              "<table border=\"1\" class=\"dataframe\">\n",
              "  <thead>\n",
              "    <tr style=\"text-align: right;\">\n",
              "      <th>predicted_labels_dtc</th>\n",
              "      <th>0</th>\n",
              "      <th>1</th>\n",
              "    </tr>\n",
              "    <tr>\n",
              "      <th>target</th>\n",
              "      <th></th>\n",
              "      <th></th>\n",
              "    </tr>\n",
              "  </thead>\n",
              "  <tbody>\n",
              "    <tr>\n",
              "      <th>0</th>\n",
              "      <td>153</td>\n",
              "      <td>3170</td>\n",
              "    </tr>\n",
              "    <tr>\n",
              "      <th>1</th>\n",
              "      <td>0</td>\n",
              "      <td>6938</td>\n",
              "    </tr>\n",
              "  </tbody>\n",
              "</table>\n",
              "</div>"
            ],
            "text/plain": [
              "predicted_labels_dtc    0     1\n",
              "target                         \n",
              "0                     153  3170\n",
              "1                       0  6938"
            ]
          },
          "metadata": {
            "tags": []
          },
          "execution_count": 12
        }
      ]
    },
    {
      "cell_type": "code",
      "metadata": {
        "colab": {
          "base_uri": "https://localhost:8080/",
          "height": 359
        },
        "id": "nmDJgH__ntTU",
        "outputId": "9fc12abd-9aa7-47be-bb8b-a6f8173de1f9"
      },
      "source": [
        "#implement decision tree regression\n",
        "from sklearn import tree\n",
        "dtr=tree.DecisionTreeRegressor()\n",
        "dtr=dtr.fit(tfidf_df,review_data['overall'])\n",
        "review_data['predicted_values_dtr']=dtr.predict(tfidf_df)\n",
        "review_data[['predicted_values_dtr','overall']].head(10)\n",
        "\n"
      ],
      "execution_count": null,
      "outputs": [
        {
          "output_type": "execute_result",
          "data": {
            "text/html": [
              "<div>\n",
              "<style scoped>\n",
              "    .dataframe tbody tr th:only-of-type {\n",
              "        vertical-align: middle;\n",
              "    }\n",
              "\n",
              "    .dataframe tbody tr th {\n",
              "        vertical-align: top;\n",
              "    }\n",
              "\n",
              "    .dataframe thead th {\n",
              "        text-align: right;\n",
              "    }\n",
              "</style>\n",
              "<table border=\"1\" class=\"dataframe\">\n",
              "  <thead>\n",
              "    <tr style=\"text-align: right;\">\n",
              "      <th></th>\n",
              "      <th>predicted_values_dtr</th>\n",
              "      <th>overall</th>\n",
              "    </tr>\n",
              "  </thead>\n",
              "  <tbody>\n",
              "    <tr>\n",
              "      <th>0</th>\n",
              "      <td>4.489185</td>\n",
              "      <td>5</td>\n",
              "    </tr>\n",
              "    <tr>\n",
              "      <th>1</th>\n",
              "      <td>4.489185</td>\n",
              "      <td>5</td>\n",
              "    </tr>\n",
              "    <tr>\n",
              "      <th>2</th>\n",
              "      <td>4.489185</td>\n",
              "      <td>5</td>\n",
              "    </tr>\n",
              "    <tr>\n",
              "      <th>3</th>\n",
              "      <td>4.489185</td>\n",
              "      <td>5</td>\n",
              "    </tr>\n",
              "    <tr>\n",
              "      <th>4</th>\n",
              "      <td>4.489185</td>\n",
              "      <td>5</td>\n",
              "    </tr>\n",
              "    <tr>\n",
              "      <th>5</th>\n",
              "      <td>5.000000</td>\n",
              "      <td>5</td>\n",
              "    </tr>\n",
              "    <tr>\n",
              "      <th>6</th>\n",
              "      <td>4.489185</td>\n",
              "      <td>5</td>\n",
              "    </tr>\n",
              "    <tr>\n",
              "      <th>7</th>\n",
              "      <td>4.489185</td>\n",
              "      <td>3</td>\n",
              "    </tr>\n",
              "    <tr>\n",
              "      <th>8</th>\n",
              "      <td>5.000000</td>\n",
              "      <td>5</td>\n",
              "    </tr>\n",
              "    <tr>\n",
              "      <th>9</th>\n",
              "      <td>4.489185</td>\n",
              "      <td>5</td>\n",
              "    </tr>\n",
              "  </tbody>\n",
              "</table>\n",
              "</div>"
            ],
            "text/plain": [
              "   predicted_values_dtr  overall\n",
              "0              4.489185        5\n",
              "1              4.489185        5\n",
              "2              4.489185        5\n",
              "3              4.489185        5\n",
              "4              4.489185        5\n",
              "5              5.000000        5\n",
              "6              4.489185        5\n",
              "7              4.489185        3\n",
              "8              5.000000        5\n",
              "9              4.489185        5"
            ]
          },
          "metadata": {
            "tags": []
          },
          "execution_count": 13
        }
      ]
    },
    {
      "cell_type": "code",
      "metadata": {
        "id": "J30kcvKJntPv"
      },
      "source": [
        "#generic function for regression models\n",
        "def reg_model(model_type,X_train,y):\n",
        "  model=model_type.fit(X_train,y)\n",
        "  predicted_values=model.predict(tfidf_df)\n",
        "  return predicted_values\n",
        "\n",
        "\n"
      ],
      "execution_count": null,
      "outputs": []
    },
    {
      "cell_type": "code",
      "metadata": {
        "colab": {
          "base_uri": "https://localhost:8080/",
          "height": 359
        },
        "id": "Z3nUTJvPntKj",
        "outputId": "fb7a4d1b-caaf-43e7-b2e9-b90e35085a92"
      },
      "source": [
        "\n",
        "\n",
        "#implement Random Forest Regressor\n",
        "from sklearn.ensemble import RandomForestRegressor\n",
        "rfg=RandomForestRegressor(n_estimators=20,max_depth=4,max_features='sqrt',random_state=1)\n",
        "review_data['predicted_values_rfg']=reg_model(rfg,tfidf_df,review_data['overall'])\n",
        "review_data[['overall','predicted_values_rfg']].head(10)\n",
        "\n",
        "\n"
      ],
      "execution_count": null,
      "outputs": [
        {
          "output_type": "execute_result",
          "data": {
            "text/html": [
              "<div>\n",
              "<style scoped>\n",
              "    .dataframe tbody tr th:only-of-type {\n",
              "        vertical-align: middle;\n",
              "    }\n",
              "\n",
              "    .dataframe tbody tr th {\n",
              "        vertical-align: top;\n",
              "    }\n",
              "\n",
              "    .dataframe thead th {\n",
              "        text-align: right;\n",
              "    }\n",
              "</style>\n",
              "<table border=\"1\" class=\"dataframe\">\n",
              "  <thead>\n",
              "    <tr style=\"text-align: right;\">\n",
              "      <th></th>\n",
              "      <th>overall</th>\n",
              "      <th>predicted_values_rfg</th>\n",
              "    </tr>\n",
              "  </thead>\n",
              "  <tbody>\n",
              "    <tr>\n",
              "      <th>0</th>\n",
              "      <td>5</td>\n",
              "      <td>4.492019</td>\n",
              "    </tr>\n",
              "    <tr>\n",
              "      <th>1</th>\n",
              "      <td>5</td>\n",
              "      <td>4.492019</td>\n",
              "    </tr>\n",
              "    <tr>\n",
              "      <th>2</th>\n",
              "      <td>5</td>\n",
              "      <td>4.492019</td>\n",
              "    </tr>\n",
              "    <tr>\n",
              "      <th>3</th>\n",
              "      <td>5</td>\n",
              "      <td>4.492019</td>\n",
              "    </tr>\n",
              "    <tr>\n",
              "      <th>4</th>\n",
              "      <td>5</td>\n",
              "      <td>4.492019</td>\n",
              "    </tr>\n",
              "    <tr>\n",
              "      <th>5</th>\n",
              "      <td>5</td>\n",
              "      <td>4.492019</td>\n",
              "    </tr>\n",
              "    <tr>\n",
              "      <th>6</th>\n",
              "      <td>5</td>\n",
              "      <td>4.492019</td>\n",
              "    </tr>\n",
              "    <tr>\n",
              "      <th>7</th>\n",
              "      <td>3</td>\n",
              "      <td>4.492019</td>\n",
              "    </tr>\n",
              "    <tr>\n",
              "      <th>8</th>\n",
              "      <td>5</td>\n",
              "      <td>4.492019</td>\n",
              "    </tr>\n",
              "    <tr>\n",
              "      <th>9</th>\n",
              "      <td>5</td>\n",
              "      <td>4.492019</td>\n",
              "    </tr>\n",
              "  </tbody>\n",
              "</table>\n",
              "</div>"
            ],
            "text/plain": [
              "   overall  predicted_values_rfg\n",
              "0        5              4.492019\n",
              "1        5              4.492019\n",
              "2        5              4.492019\n",
              "3        5              4.492019\n",
              "4        5              4.492019\n",
              "5        5              4.492019\n",
              "6        5              4.492019\n",
              "7        3              4.492019\n",
              "8        5              4.492019\n",
              "9        5              4.492019"
            ]
          },
          "metadata": {
            "tags": []
          },
          "execution_count": 15
        }
      ]
    },
    {
      "cell_type": "code",
      "metadata": {
        "colab": {
          "base_uri": "https://localhost:8080/",
          "height": 359
        },
        "id": "rm2djCedntFo",
        "outputId": "6a629780-a35e-4a96-b6d1-9e488dbe08d7"
      },
      "source": [
        "#implement GradientBoostingRegressor\n",
        "from sklearn.ensemble import GradientBoostingRegressor\n",
        "gbr=GradientBoostingRegressor(n_estimators=20,max_depth=4,max_features='sqrt',random_state=1)\n",
        "review_data['predicted_values_gbr']=reg_model(gbr,tfidf_df,review_data['overall'])\n",
        "review_data[['overall','predicted_values_rfg']].head(10)\n",
        "\n",
        "\n"
      ],
      "execution_count": null,
      "outputs": [
        {
          "output_type": "execute_result",
          "data": {
            "text/html": [
              "<div>\n",
              "<style scoped>\n",
              "    .dataframe tbody tr th:only-of-type {\n",
              "        vertical-align: middle;\n",
              "    }\n",
              "\n",
              "    .dataframe tbody tr th {\n",
              "        vertical-align: top;\n",
              "    }\n",
              "\n",
              "    .dataframe thead th {\n",
              "        text-align: right;\n",
              "    }\n",
              "</style>\n",
              "<table border=\"1\" class=\"dataframe\">\n",
              "  <thead>\n",
              "    <tr style=\"text-align: right;\">\n",
              "      <th></th>\n",
              "      <th>overall</th>\n",
              "      <th>predicted_values_rfg</th>\n",
              "    </tr>\n",
              "  </thead>\n",
              "  <tbody>\n",
              "    <tr>\n",
              "      <th>0</th>\n",
              "      <td>5</td>\n",
              "      <td>4.492019</td>\n",
              "    </tr>\n",
              "    <tr>\n",
              "      <th>1</th>\n",
              "      <td>5</td>\n",
              "      <td>4.492019</td>\n",
              "    </tr>\n",
              "    <tr>\n",
              "      <th>2</th>\n",
              "      <td>5</td>\n",
              "      <td>4.492019</td>\n",
              "    </tr>\n",
              "    <tr>\n",
              "      <th>3</th>\n",
              "      <td>5</td>\n",
              "      <td>4.492019</td>\n",
              "    </tr>\n",
              "    <tr>\n",
              "      <th>4</th>\n",
              "      <td>5</td>\n",
              "      <td>4.492019</td>\n",
              "    </tr>\n",
              "    <tr>\n",
              "      <th>5</th>\n",
              "      <td>5</td>\n",
              "      <td>4.492019</td>\n",
              "    </tr>\n",
              "    <tr>\n",
              "      <th>6</th>\n",
              "      <td>5</td>\n",
              "      <td>4.492019</td>\n",
              "    </tr>\n",
              "    <tr>\n",
              "      <th>7</th>\n",
              "      <td>3</td>\n",
              "      <td>4.492019</td>\n",
              "    </tr>\n",
              "    <tr>\n",
              "      <th>8</th>\n",
              "      <td>5</td>\n",
              "      <td>4.492019</td>\n",
              "    </tr>\n",
              "    <tr>\n",
              "      <th>9</th>\n",
              "      <td>5</td>\n",
              "      <td>4.492019</td>\n",
              "    </tr>\n",
              "  </tbody>\n",
              "</table>\n",
              "</div>"
            ],
            "text/plain": [
              "   overall  predicted_values_rfg\n",
              "0        5              4.492019\n",
              "1        5              4.492019\n",
              "2        5              4.492019\n",
              "3        5              4.492019\n",
              "4        5              4.492019\n",
              "5        5              4.492019\n",
              "6        5              4.492019\n",
              "7        3              4.492019\n",
              "8        5              4.492019\n",
              "9        5              4.492019"
            ]
          },
          "metadata": {
            "tags": []
          },
          "execution_count": 16
        }
      ]
    },
    {
      "cell_type": "code",
      "metadata": {
        "colab": {
          "base_uri": "https://localhost:8080/",
          "height": 396
        },
        "id": "2E6Fep1Ins_d",
        "outputId": "a3e60890-81ae-483b-b402-98a7b46defee"
      },
      "source": [
        "\n",
        "#implement XGBRegressor\n",
        "from xgboost import XGBRegressor\n",
        "xgbr=XGBRegressor(n_estimators=20,learning_rate=0.03,max_depth=5,subsample=0.6,colsample_bytree=0.6,reg_alpha=10,seed=42)\n",
        "review_data['predicted_values_xgbr']=reg_model(xgbr,tfidf_df,review_data['overall'])\n",
        "review_data[['overall','predicted_values_xgbr']].head(10)\n",
        "\n"
      ],
      "execution_count": null,
      "outputs": [
        {
          "output_type": "stream",
          "text": [
            "[05:19:23] WARNING: /workspace/src/objective/regression_obj.cu:152: reg:linear is now deprecated in favor of reg:squarederror.\n"
          ],
          "name": "stdout"
        },
        {
          "output_type": "execute_result",
          "data": {
            "text/html": [
              "<div>\n",
              "<style scoped>\n",
              "    .dataframe tbody tr th:only-of-type {\n",
              "        vertical-align: middle;\n",
              "    }\n",
              "\n",
              "    .dataframe tbody tr th {\n",
              "        vertical-align: top;\n",
              "    }\n",
              "\n",
              "    .dataframe thead th {\n",
              "        text-align: right;\n",
              "    }\n",
              "</style>\n",
              "<table border=\"1\" class=\"dataframe\">\n",
              "  <thead>\n",
              "    <tr style=\"text-align: right;\">\n",
              "      <th></th>\n",
              "      <th>overall</th>\n",
              "      <th>predicted_values_xgbr</th>\n",
              "    </tr>\n",
              "  </thead>\n",
              "  <tbody>\n",
              "    <tr>\n",
              "      <th>0</th>\n",
              "      <td>5</td>\n",
              "      <td>2.321243</td>\n",
              "    </tr>\n",
              "    <tr>\n",
              "      <th>1</th>\n",
              "      <td>5</td>\n",
              "      <td>2.321243</td>\n",
              "    </tr>\n",
              "    <tr>\n",
              "      <th>2</th>\n",
              "      <td>5</td>\n",
              "      <td>2.321243</td>\n",
              "    </tr>\n",
              "    <tr>\n",
              "      <th>3</th>\n",
              "      <td>5</td>\n",
              "      <td>2.321243</td>\n",
              "    </tr>\n",
              "    <tr>\n",
              "      <th>4</th>\n",
              "      <td>5</td>\n",
              "      <td>2.321243</td>\n",
              "    </tr>\n",
              "    <tr>\n",
              "      <th>5</th>\n",
              "      <td>5</td>\n",
              "      <td>2.321243</td>\n",
              "    </tr>\n",
              "    <tr>\n",
              "      <th>6</th>\n",
              "      <td>5</td>\n",
              "      <td>2.321243</td>\n",
              "    </tr>\n",
              "    <tr>\n",
              "      <th>7</th>\n",
              "      <td>3</td>\n",
              "      <td>2.321243</td>\n",
              "    </tr>\n",
              "    <tr>\n",
              "      <th>8</th>\n",
              "      <td>5</td>\n",
              "      <td>2.321243</td>\n",
              "    </tr>\n",
              "    <tr>\n",
              "      <th>9</th>\n",
              "      <td>5</td>\n",
              "      <td>2.321243</td>\n",
              "    </tr>\n",
              "  </tbody>\n",
              "</table>\n",
              "</div>"
            ],
            "text/plain": [
              "   overall  predicted_values_xgbr\n",
              "0        5               2.321243\n",
              "1        5               2.321243\n",
              "2        5               2.321243\n",
              "3        5               2.321243\n",
              "4        5               2.321243\n",
              "5        5               2.321243\n",
              "6        5               2.321243\n",
              "7        3               2.321243\n",
              "8        5               2.321243\n",
              "9        5               2.321243"
            ]
          },
          "metadata": {
            "tags": []
          },
          "execution_count": 17
        }
      ]
    },
    {
      "cell_type": "code",
      "metadata": {
        "colab": {
          "base_uri": "https://localhost:8080/",
          "height": 142
        },
        "id": "u_jI1W5pns6W",
        "outputId": "dee272ef-b686-4e68-a1c5-355d40e06647"
      },
      "source": [
        "#generic function for classier models\n",
        "def clf_model(model_type,X_train,y):\n",
        "  model=model_type.fit(X_train,y)\n",
        "  predicted_labels=model.predict(tfidf_df)\n",
        "  return predicted_labels\n",
        "\n",
        "#implement random forest classifier\n",
        "from sklearn.ensemble import RandomForestClassifier\n",
        "rfc=RandomForestClassifier(n_estimators=20,max_depth=4,max_features='sqrt',random_state=1)\n",
        "review_data['predicted_labels_rfc']=clf_model(rfc,tfidf_df,review_data['target'])\n",
        "pd.crosstab(review_data['target'],review_data['predicted_labels_rfc'])\n",
        "\n"
      ],
      "execution_count": null,
      "outputs": [
        {
          "output_type": "execute_result",
          "data": {
            "text/html": [
              "<div>\n",
              "<style scoped>\n",
              "    .dataframe tbody tr th:only-of-type {\n",
              "        vertical-align: middle;\n",
              "    }\n",
              "\n",
              "    .dataframe tbody tr th {\n",
              "        vertical-align: top;\n",
              "    }\n",
              "\n",
              "    .dataframe thead th {\n",
              "        text-align: right;\n",
              "    }\n",
              "</style>\n",
              "<table border=\"1\" class=\"dataframe\">\n",
              "  <thead>\n",
              "    <tr style=\"text-align: right;\">\n",
              "      <th>predicted_labels_rfc</th>\n",
              "      <th>1</th>\n",
              "    </tr>\n",
              "    <tr>\n",
              "      <th>target</th>\n",
              "      <th></th>\n",
              "    </tr>\n",
              "  </thead>\n",
              "  <tbody>\n",
              "    <tr>\n",
              "      <th>0</th>\n",
              "      <td>3323</td>\n",
              "    </tr>\n",
              "    <tr>\n",
              "      <th>1</th>\n",
              "      <td>6938</td>\n",
              "    </tr>\n",
              "  </tbody>\n",
              "</table>\n",
              "</div>"
            ],
            "text/plain": [
              "predicted_labels_rfc     1\n",
              "target                    \n",
              "0                     3323\n",
              "1                     6938"
            ]
          },
          "metadata": {
            "tags": []
          },
          "execution_count": 20
        }
      ]
    },
    {
      "cell_type": "code",
      "metadata": {
        "colab": {
          "base_uri": "https://localhost:8080/",
          "height": 142
        },
        "id": "YiqrNH9Hns2J",
        "outputId": "76c981db-4ef9-4c1a-df60-dfcfae6efb0f"
      },
      "source": [
        "#implement GBM classifier\n",
        "from sklearn.ensemble import GradientBoostingClassifier\n",
        "gbc=GradientBoostingClassifier(n_estimators=2,max_depth=3,max_features='sqrt',random_state=1)\n",
        "review_data['predicted_labels_gbc']=clf_model(gbc,tfidf_df,review_data['target'])\n",
        "pd.crosstab(review_data['target'],review_data['predicted_labels_gbc'])\n"
      ],
      "execution_count": null,
      "outputs": [
        {
          "output_type": "execute_result",
          "data": {
            "text/html": [
              "<div>\n",
              "<style scoped>\n",
              "    .dataframe tbody tr th:only-of-type {\n",
              "        vertical-align: middle;\n",
              "    }\n",
              "\n",
              "    .dataframe tbody tr th {\n",
              "        vertical-align: top;\n",
              "    }\n",
              "\n",
              "    .dataframe thead th {\n",
              "        text-align: right;\n",
              "    }\n",
              "</style>\n",
              "<table border=\"1\" class=\"dataframe\">\n",
              "  <thead>\n",
              "    <tr style=\"text-align: right;\">\n",
              "      <th>predicted_labels_gbc</th>\n",
              "      <th>1</th>\n",
              "    </tr>\n",
              "    <tr>\n",
              "      <th>target</th>\n",
              "      <th></th>\n",
              "    </tr>\n",
              "  </thead>\n",
              "  <tbody>\n",
              "    <tr>\n",
              "      <th>0</th>\n",
              "      <td>3323</td>\n",
              "    </tr>\n",
              "    <tr>\n",
              "      <th>1</th>\n",
              "      <td>6938</td>\n",
              "    </tr>\n",
              "  </tbody>\n",
              "</table>\n",
              "</div>"
            ],
            "text/plain": [
              "predicted_labels_gbc     1\n",
              "target                    \n",
              "0                     3323\n",
              "1                     6938"
            ]
          },
          "metadata": {
            "tags": []
          },
          "execution_count": 21
        }
      ]
    },
    {
      "cell_type": "code",
      "metadata": {
        "colab": {
          "base_uri": "https://localhost:8080/",
          "height": 142
        },
        "id": "mZXgWhVmnsww",
        "outputId": "58627561-6b7c-4cbc-ec94-eddd4b7fc995"
      },
      "source": [
        "#implement XGBoost classifier\n",
        "from xgboost import XGBClassifier\n",
        "xgb_clf=XGBClassifier(n_estimators=20,learning_rate=0.03,max_depth=5,subsample=0.6,colsample_bytree=0.6,reg_alpha=10,seed=42)\n",
        "review_data['predicted_labels_xgbc']=clf_model(xgb_clf,tfidf_df,review_data['target'])\n",
        "pd.crosstab(review_data['target'],review_data['predicted_labels_xgbc'])"
      ],
      "execution_count": null,
      "outputs": [
        {
          "output_type": "execute_result",
          "data": {
            "text/html": [
              "<div>\n",
              "<style scoped>\n",
              "    .dataframe tbody tr th:only-of-type {\n",
              "        vertical-align: middle;\n",
              "    }\n",
              "\n",
              "    .dataframe tbody tr th {\n",
              "        vertical-align: top;\n",
              "    }\n",
              "\n",
              "    .dataframe thead th {\n",
              "        text-align: right;\n",
              "    }\n",
              "</style>\n",
              "<table border=\"1\" class=\"dataframe\">\n",
              "  <thead>\n",
              "    <tr style=\"text-align: right;\">\n",
              "      <th>predicted_labels_xgbc</th>\n",
              "      <th>1</th>\n",
              "    </tr>\n",
              "    <tr>\n",
              "      <th>target</th>\n",
              "      <th></th>\n",
              "    </tr>\n",
              "  </thead>\n",
              "  <tbody>\n",
              "    <tr>\n",
              "      <th>0</th>\n",
              "      <td>3323</td>\n",
              "    </tr>\n",
              "    <tr>\n",
              "      <th>1</th>\n",
              "      <td>6938</td>\n",
              "    </tr>\n",
              "  </tbody>\n",
              "</table>\n",
              "</div>"
            ],
            "text/plain": [
              "predicted_labels_xgbc     1\n",
              "target                     \n",
              "0                      3323\n",
              "1                      6938"
            ]
          },
          "metadata": {
            "tags": []
          },
          "execution_count": 22
        }
      ]
    }
  ]
}